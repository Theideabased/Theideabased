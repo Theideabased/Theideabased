{
 "cells": [
  {
   "cell_type": "code",
   "execution_count": null,
   "id": "e3829b73",
   "metadata": {},
   "outputs": [],
   "source": [
    "def total(hand):\n",
    "    \"\"\" this is a function that will help you calculate poker game \n",
    "    which the the King, Queen and Jack will be calculated as 10, \n",
    "    and the Aces is 10 when the total + 10 is lower or same as 21 \n",
    "    and 1 otherwise. Where all other will be calculated accordingly\n",
    "    for example\n",
    "    hand_1 = [J, A, 7] = 18\n",
    "    hand_2 = [8, 2, A] = 20 therefore hand_2 win\"\"\"\n",
    "    Total = 0\n",
    "    Aces = 0 \n",
    "    # First we will extract the card in the hand and calculate there various values\n",
    "    for card in hand:\n",
    "        if card in ['J','K','Q']:\n",
    "            Total += 10\n",
    "        elif card == 'A':\n",
    "            Aces = 1\n",
    "        else:\n",
    "            Total += int(card)\n",
    "    # Now we will differentiate the high Aces from the lower Aces\n",
    "    Total += Aces\n",
    "    while Total + 10 <= 21 and Aces > 0:\n",
    "        Aces -= 2\n",
    "        Total += 10\n",
    "    return Total\n",
    "# For neat and bug free code we will create another function that will help select winner between to players\n",
    "def winner(hand_1, hand_2):\n",
    "    \"\"\" This will help us pick the wineer between two poker game players \"\"\"\n",
    "    total_1 = Total(hand_1)\n",
    "    total_2 = Total(hand_2)\n",
    "    return total_1 <= 21 and (total_1 > total_2 or total_2 > 21)\n",
    "        "
   ]
  },
  {
   "cell_type": "code",
   "execution_count": null,
   "id": "4915e2cc",
   "metadata": {},
   "outputs": [],
   "source": [
    "!jt -t chesterish"
   ]
  }
 ],
 "metadata": {
  "kernelspec": {
   "display_name": "Python 3 (ipykernel)",
   "language": "python",
   "name": "python3"
  },
  "language_info": {
   "codemirror_mode": {
    "name": "ipython",
    "version": 3
   },
   "file_extension": ".py",
   "mimetype": "text/x-python",
   "name": "python",
   "nbconvert_exporter": "python",
   "pygments_lexer": "ipython3",
   "version": "3.7.6"
  }
 },
 "nbformat": 4,
 "nbformat_minor": 5
}
